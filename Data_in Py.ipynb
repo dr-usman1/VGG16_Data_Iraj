{
 "cells": [
  {
   "cell_type": "code",
   "execution_count": 130,
   "metadata": {},
   "outputs": [],
   "source": [
    "import scipy.io"
   ]
  },
  {
   "cell_type": "code",
   "execution_count": 132,
   "metadata": {},
   "outputs": [
    {
     "ename": "IndexError",
     "evalue": "list index out of range",
     "output_type": "error",
     "traceback": [
      "\u001b[1;31m---------------------------------------------------------------------------\u001b[0m",
      "\u001b[1;31mIndexError\u001b[0m                                Traceback (most recent call last)",
      "\u001b[1;32md:\\OneDrive - 조선대학교[Chosun University]\\Shared\\Colab_Dr_Eraj\\VGG16-20231004T014549Z-001\\VGG16\\Data_in Py.ipynb Cell 2\u001b[0m line \u001b[0;36m1\n\u001b[0;32m     <a href='vscode-notebook-cell:/d%3A/OneDrive%20-%20%EC%A1%B0%EC%84%A0%EB%8C%80%ED%95%99%EA%B5%90%5BChosun%20University%5D/Shared/Colab_Dr_Eraj/VGG16-20231004T014549Z-001/VGG16/Data_in%20Py.ipynb#W6sZmlsZQ%3D%3D?line=16'>17</a>\u001b[0m \u001b[39mfor\u001b[39;00m i \u001b[39min\u001b[39;00m \u001b[39mrange\u001b[39m (\u001b[39m0\u001b[39m,\u001b[39m17\u001b[39m):\n\u001b[0;32m     <a href='vscode-notebook-cell:/d%3A/OneDrive%20-%20%EC%A1%B0%EC%84%A0%EB%8C%80%ED%95%99%EA%B5%90%5BChosun%20University%5D/Shared/Colab_Dr_Eraj/VGG16-20231004T014549Z-001/VGG16/Data_in%20Py.ipynb#W6sZmlsZQ%3D%3D?line=17'>18</a>\u001b[0m     data_from_W1_L1 \u001b[39m=\u001b[39m data_list[i]\n\u001b[1;32m---> <a href='vscode-notebook-cell:/d%3A/OneDrive%20-%20%EC%A1%B0%EC%84%A0%EB%8C%80%ED%95%99%EA%B5%90%5BChosun%20University%5D/Shared/Colab_Dr_Eraj/VGG16-20231004T014549Z-001/VGG16/Data_in%20Py.ipynb#W6sZmlsZQ%3D%3D?line=18'>19</a>\u001b[0m     data_from_W2_L1 \u001b[39m=\u001b[39m data_list[i\u001b[39m+\u001b[39;49m\u001b[39m1\u001b[39;49m]\n\u001b[0;32m     <a href='vscode-notebook-cell:/d%3A/OneDrive%20-%20%EC%A1%B0%EC%84%A0%EB%8C%80%ED%95%99%EA%B5%90%5BChosun%20University%5D/Shared/Colab_Dr_Eraj/VGG16-20231004T014549Z-001/VGG16/Data_in%20Py.ipynb#W6sZmlsZQ%3D%3D?line=19'>20</a>\u001b[0m     f \u001b[39m=\u001b[39m \u001b[39mopen\u001b[39m(\u001b[39mf\u001b[39m\u001b[39m\"\u001b[39m\u001b[39mVGG_W\u001b[39m\u001b[39m{\u001b[39;00mi\u001b[39m}\u001b[39;00m\u001b[39m_L1.txt\u001b[39m\u001b[39m\"\u001b[39m,\u001b[39m'\u001b[39m\u001b[39mw\u001b[39m\u001b[39m'\u001b[39m)\n\u001b[0;32m     <a href='vscode-notebook-cell:/d%3A/OneDrive%20-%20%EC%A1%B0%EC%84%A0%EB%8C%80%ED%95%99%EA%B5%90%5BChosun%20University%5D/Shared/Colab_Dr_Eraj/VGG16-20231004T014549Z-001/VGG16/Data_in%20Py.ipynb#W6sZmlsZQ%3D%3D?line=20'>21</a>\u001b[0m     \u001b[39m# print(data_from_W1_L1)\u001b[39;00m\n",
      "\u001b[1;31mIndexError\u001b[0m: list index out of range"
     ]
    }
   ],
   "source": [
    "from binary_fractions import TwosComplement\n",
    "data_list = []\n",
    "\n",
    "# Iterate through the file names\n",
    "for i in range(17):  # Assuming you want to load W0_L1.mat, W1_L1.mat, and W2_L1.mat\n",
    "    file_name = f'W{i}_L1.mat'  # Construct the file name\n",
    "    data = loadmat(file_name)   # Load the .mat file\n",
    "\n",
    "    # Convert the data to a NumPy array\n",
    "    data_array = np.array(data[f'W{i}_L1'])  # Replace 'variable_name' with the actual variable name in the .mat file\n",
    "\n",
    "    data_list.append(data_array)  # Append the NumPy array to the list\n",
    "\n",
    "# Now data_list contains the data from all three .mat files as NumPy arrays\n",
    "# You can access each data array using indexing\n",
    "# For example, to access data from W1_L1.mat as a NumPy array:\n",
    "for i in range (0,17):\n",
    "    data_from_W1_L1 = data_list[i]\n",
    "    data_from_W2_L1 = data_list[i+1]\n",
    "    f = open(f\"VGG_W{i}_L1.txt\",'w')\n",
    "    # print(data_from_W1_L1)\n",
    "    data_from_W1_L1 = data_from_W1_L1.reshape(-1)\n",
    "    data_from_W2_L1 = data_from_W2_L1.reshape(-1)\n",
    "\n",
    "    # print(data_from_W1_L1)\n",
    "    Str_Data1 = [\"%.8f\" % x for x in data_from_W1_L1]\n",
    "    Str_Data2 = [\"%.8f\" % x for x in data_from_W2_L1]\n",
    "\n",
    "    # print(Str_Data1)\n",
    "    # print(Str_Data2)\n",
    "    # # print(Str_Data)\n",
    "    x1 = [float(items) for items in Str_Data1]\n",
    "    x11 = [float(items) for items in Str_Data2]\n",
    "\n",
    "    # print(x1)\n",
    "    x2 = []\n",
    "    x22 = []\n",
    "\n",
    "    for items in x1:\n",
    "        x2.append(TwosComplement(items))\n",
    "    # print(x2)\n",
    "    for items in x11:\n",
    "        x22.append(TwosComplement(items))\n",
    "\n",
    "    x12 = []\n",
    "    for i in range (0,len(x2)):\n",
    "        x12.append(f'{x2[i][0]}{x2[i]}')\n",
    "\n",
    "    x112 = []\n",
    "    for i in range (0,len(x22)):\n",
    "        x112.append(f'{x2[i][0]}{x22[i]}')\n",
    "\n",
    "    # print(x112)\n",
    "    x14 = []\n",
    "    x114 = []\n",
    "\n",
    "    x13 = []\n",
    "    x113 = []\n",
    "\n",
    "    for items in x12:\n",
    "        x13.append (items.replace (\".\",\"\"))\n",
    "    # print(x13)\n",
    "\n",
    "    for items in x112:\n",
    "        x113.append (items.replace (\".\",\"\"))\n",
    "    # print(x113)\n",
    "\n",
    "    for items in x13:\n",
    "        x14.append(items[0:16])\n",
    "    # print(x14)\n",
    "\n",
    "    for items in x113:\n",
    "        x114.append(items[0:16])\n",
    "    # print(x114)\n",
    "\n",
    "    x_final = np.concatenate((x14,x114), axis=0)\n",
    "    x_final = x_final[: len(x_final) - 2]\n",
    "    # print(x_final)\n",
    "\n",
    "    for items in x_final:\n",
    "        print(items,file = f)\n",
    "    f.close()"
   ]
  }
 ],
 "metadata": {
  "kernelspec": {
   "display_name": "Python 3",
   "language": "python",
   "name": "python3"
  },
  "language_info": {
   "codemirror_mode": {
    "name": "ipython",
    "version": 3
   },
   "file_extension": ".py",
   "mimetype": "text/x-python",
   "name": "python",
   "nbconvert_exporter": "python",
   "pygments_lexer": "ipython3",
   "version": "3.8.10"
  },
  "orig_nbformat": 4
 },
 "nbformat": 4,
 "nbformat_minor": 2
}
